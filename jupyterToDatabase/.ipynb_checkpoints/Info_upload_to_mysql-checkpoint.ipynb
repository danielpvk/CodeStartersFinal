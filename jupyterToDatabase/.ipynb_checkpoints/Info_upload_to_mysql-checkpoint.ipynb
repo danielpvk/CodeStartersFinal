{
 "cells": [
  {
   "cell_type": "code",
   "execution_count": 3,
   "metadata": {},
   "outputs": [],
   "source": [
    "import pandas as pd\n",
    "from sqlalchemy import create_engine\n",
    "csv_inegi = \"./Resources/datos.csv\""
   ]
  },
  {
   "cell_type": "code",
   "execution_count": 2,
   "metadata": {},
   "outputs": [
    {
     "data": {
      "text/html": [
       "<div>\n",
       "<style scoped>\n",
       "    .dataframe tbody tr th:only-of-type {\n",
       "        vertical-align: middle;\n",
       "    }\n",
       "\n",
       "    .dataframe tbody tr th {\n",
       "        vertical-align: top;\n",
       "    }\n",
       "\n",
       "    .dataframe thead th {\n",
       "        text-align: right;\n",
       "    }\n",
       "</style>\n",
       "<table border=\"1\" class=\"dataframe\">\n",
       "  <thead>\n",
       "    <tr style=\"text-align: right;\">\n",
       "      <th></th>\n",
       "      <th>Estado</th>\n",
       "      <th>Sector</th>\n",
       "      <th>Fecha</th>\n",
       "      <th>Cartera</th>\n",
       "    </tr>\n",
       "  </thead>\n",
       "  <tbody>\n",
       "    <tr>\n",
       "      <th>0</th>\n",
       "      <td>AGUASCALIENTES</td>\n",
       "      <td>Agricultura, Silvicultura, Ganadería y Pesca</td>\n",
       "      <td>2019-05-19</td>\n",
       "      <td>14</td>\n",
       "    </tr>\n",
       "    <tr>\n",
       "      <th>1</th>\n",
       "      <td>AGUASCALIENTES</td>\n",
       "      <td>Alimentos, Bebidas y Tabaco</td>\n",
       "      <td>2019-05-19</td>\n",
       "      <td>66</td>\n",
       "    </tr>\n",
       "    <tr>\n",
       "      <th>2</th>\n",
       "      <td>AGUASCALIENTES</td>\n",
       "      <td>Comercio</td>\n",
       "      <td>2019-05-19</td>\n",
       "      <td>25</td>\n",
       "    </tr>\n",
       "    <tr>\n",
       "      <th>3</th>\n",
       "      <td>AGUASCALIENTES</td>\n",
       "      <td>Comunicaciones y Telecomunicaciones</td>\n",
       "      <td>2019-05-19</td>\n",
       "      <td>12</td>\n",
       "    </tr>\n",
       "    <tr>\n",
       "      <th>4</th>\n",
       "      <td>AGUASCALIENTES</td>\n",
       "      <td>Construcción</td>\n",
       "      <td>2019-05-19</td>\n",
       "      <td>72</td>\n",
       "    </tr>\n",
       "  </tbody>\n",
       "</table>\n",
       "</div>"
      ],
      "text/plain": [
       "           Estado                                        Sector      Fecha  \\\n",
       "0  AGUASCALIENTES  Agricultura, Silvicultura, Ganadería y Pesca 2019-05-19   \n",
       "1  AGUASCALIENTES                   Alimentos, Bebidas y Tabaco 2019-05-19   \n",
       "2  AGUASCALIENTES                                      Comercio 2019-05-19   \n",
       "3  AGUASCALIENTES           Comunicaciones y Telecomunicaciones 2019-05-19   \n",
       "4  AGUASCALIENTES                                  Construcción 2019-05-19   \n",
       "\n",
       "   Cartera  \n",
       "0       14  \n",
       "1       66  \n",
       "2       25  \n",
       "3       12  \n",
       "4       72  "
      ]
     },
     "execution_count": 2,
     "metadata": {},
     "output_type": "execute_result"
    }
   ],
   "source": [
    "PIB_df = pd.read_csv(csv_inegi,encoding ='UTF-8')\n",
    "PIB_df.head(5)"
   ]
  },
  {
   "cell_type": "code",
   "execution_count": 13,
   "metadata": {},
   "outputs": [],
   "source": [
    "#**************MYSQL LOCAL\n",
    "rds_connection_string =  \"root:root@localhost:3306/cartera_vigente\"\n",
    "#************** MYSQL HEROKU\n",
    "#rds_connection_string =  \"b62501bab4eb42:233b2b1b@us-cdbr-iron-east-02.cleardb.net/heroku_2a68ca7f0c22a7b/\"\n",
    "engine = create_engine(f'mysql://{rds_connection_string}')"
   ]
  },
  {
   "cell_type": "code",
   "execution_count": 14,
   "metadata": {},
   "outputs": [],
   "source": [
    "PIB_df.to_sql(name='cartera_vigente', con=engine, if_exists='append', index=False)"
   ]
  },
  {
   "cell_type": "code",
   "execution_count": 9,
   "metadata": {},
   "outputs": [],
   "source": [
    "import sqlalchemy as db\n",
    "connection = engine.connect()\n",
    "metadata = db.MetaData()\n",
    "census = db.Table('cartera_vigente', metadata, autoload=True, autoload_with=engine)\n",
    "Entidad=db.select([census]).where(census.columns.Estado == 'Aguascalientes')"
   ]
  },
  {
   "cell_type": "code",
   "execution_count": 10,
   "metadata": {},
   "outputs": [
    {
     "name": "stdout",
     "output_type": "stream",
     "text": [
      "SELECT cartera.\"Estado\", cartera.\"Sector\", cartera.\"Fecha\", cartera.\"Cartera\" \n",
      "FROM cartera \n",
      "WHERE cartera.\"Estado\" = :Estado_1\n"
     ]
    }
   ],
   "source": [
    "print(Entidad)"
   ]
  },
  {
   "cell_type": "code",
   "execution_count": null,
   "metadata": {},
   "outputs": [],
   "source": []
  }
 ],
 "metadata": {
  "kernelspec": {
   "display_name": "Python 3",
   "language": "python",
   "name": "python3"
  },
  "language_info": {
   "codemirror_mode": {
    "name": "ipython",
    "version": 3
   },
   "file_extension": ".py",
   "mimetype": "text/x-python",
   "name": "python",
   "nbconvert_exporter": "python",
   "pygments_lexer": "ipython3",
   "version": "3.7.1"
  }
 },
 "nbformat": 4,
 "nbformat_minor": 2
}
